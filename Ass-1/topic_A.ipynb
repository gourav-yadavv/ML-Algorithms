{
  "cells": [
    {
      "attachments": {},
      "cell_type": "markdown",
      "metadata": {
        "id": "lOS_atqe2I4B"
      },
      "source": [
        "### Topic A: Model Selection(Complexity Control)"
      ]
    },
    {
      "cell_type": "code",
      "execution_count": 15,
      "metadata": {
        "colab": {
          "base_uri": "https://localhost:8080/",
          "height": 424
        },
        "id": "SJqyrMxhxBud",
        "outputId": "7d5eca18-9435-43e9-ef43-93e16caac485"
      },
      "outputs": [
        {
          "name": "stdout",
          "output_type": "stream",
          "text": [
            "     age_at_operation  year_of_operation  no_of_pos_aux_nodes  survival_status\n",
            "0                  30                 64                    1                1\n",
            "1                  30                 62                    3                1\n",
            "2                  30                 65                    0                1\n",
            "3                  31                 59                    2                1\n",
            "4                  31                 65                    4                1\n",
            "..                ...                ...                  ...              ...\n",
            "301                75                 62                    1                1\n",
            "302                76                 67                    0                1\n",
            "303                77                 65                    3                1\n",
            "304                78                 65                    1                2\n",
            "305                83                 58                    2                2\n",
            "\n",
            "[306 rows x 4 columns]\n"
          ]
        }
      ],
      "source": [
        "import pandas as pd\n",
        "#pd.read_csv() function reads the \"haberman.data\" file and creates a Pandas DataFrame object, which is assigned to the variable df. The header=None argument tells Pandas that there is no header row in the CSV file, and the names argument specifies the names of the columns in the DataFrame.\n",
        "df = pd.read_csv('haberman.data', header=None,\n",
        "names=[\"age_at_operation\", \"year_of_operation\", \"no_of_pos_aux_nodes\", \"survival_status\"])\n",
        "print(df)"
      ]
    },
    {
      "cell_type": "code",
      "execution_count": 3,
      "metadata": {
        "colab": {
          "base_uri": "https://localhost:8080/",
          "height": 424
        },
        "id": "ApREGDzehGMC",
        "outputId": "dab6ee03-eee9-409b-cab5-96b0e78e7a65"
      },
      "outputs": [],
      "source": [
        "# as the year_of_operation is of no need so we have dropped that to reduce time complexity as we have to process data again and again \n",
        "df = df.drop(\"year_of_operation\", axis=1)\n"
      ]
    },
    {
      "attachments": {},
      "cell_type": "markdown",
      "metadata": {
        "id": "Hjg-KnGLwrNt"
      },
      "source": [
        "#### Here we are normalizing our data "
      ]
    },
    {
      "cell_type": "code",
      "execution_count": 4,
      "metadata": {
        "colab": {
          "base_uri": "https://localhost:8080/",
          "height": 424
        },
        "id": "DZkEl08GGcvj",
        "outputId": "3ef0092f-c66a-4e99-ebea-03e16cd12f72"
      },
      "outputs": [
        {
          "data": {
            "text/html": [
              "<div>\n",
              "<style scoped>\n",
              "    .dataframe tbody tr th:only-of-type {\n",
              "        vertical-align: middle;\n",
              "    }\n",
              "\n",
              "    .dataframe tbody tr th {\n",
              "        vertical-align: top;\n",
              "    }\n",
              "\n",
              "    .dataframe thead th {\n",
              "        text-align: right;\n",
              "    }\n",
              "</style>\n",
              "<table border=\"1\" class=\"dataframe\">\n",
              "  <thead>\n",
              "    <tr style=\"text-align: right;\">\n",
              "      <th></th>\n",
              "      <th>age_at_operation</th>\n",
              "      <th>no_of_pos_aux_nodes</th>\n",
              "      <th>survival_status</th>\n",
              "    </tr>\n",
              "  </thead>\n",
              "  <tbody>\n",
              "    <tr>\n",
              "      <th>0</th>\n",
              "      <td>0.000000</td>\n",
              "      <td>0.019231</td>\n",
              "      <td>0.0</td>\n",
              "    </tr>\n",
              "    <tr>\n",
              "      <th>1</th>\n",
              "      <td>0.000000</td>\n",
              "      <td>0.057692</td>\n",
              "      <td>0.0</td>\n",
              "    </tr>\n",
              "    <tr>\n",
              "      <th>2</th>\n",
              "      <td>0.000000</td>\n",
              "      <td>0.000000</td>\n",
              "      <td>0.0</td>\n",
              "    </tr>\n",
              "    <tr>\n",
              "      <th>3</th>\n",
              "      <td>0.018868</td>\n",
              "      <td>0.038462</td>\n",
              "      <td>0.0</td>\n",
              "    </tr>\n",
              "    <tr>\n",
              "      <th>4</th>\n",
              "      <td>0.018868</td>\n",
              "      <td>0.076923</td>\n",
              "      <td>0.0</td>\n",
              "    </tr>\n",
              "    <tr>\n",
              "      <th>...</th>\n",
              "      <td>...</td>\n",
              "      <td>...</td>\n",
              "      <td>...</td>\n",
              "    </tr>\n",
              "    <tr>\n",
              "      <th>301</th>\n",
              "      <td>0.849057</td>\n",
              "      <td>0.019231</td>\n",
              "      <td>0.0</td>\n",
              "    </tr>\n",
              "    <tr>\n",
              "      <th>302</th>\n",
              "      <td>0.867925</td>\n",
              "      <td>0.000000</td>\n",
              "      <td>0.0</td>\n",
              "    </tr>\n",
              "    <tr>\n",
              "      <th>303</th>\n",
              "      <td>0.886792</td>\n",
              "      <td>0.057692</td>\n",
              "      <td>0.0</td>\n",
              "    </tr>\n",
              "    <tr>\n",
              "      <th>304</th>\n",
              "      <td>0.905660</td>\n",
              "      <td>0.019231</td>\n",
              "      <td>1.0</td>\n",
              "    </tr>\n",
              "    <tr>\n",
              "      <th>305</th>\n",
              "      <td>1.000000</td>\n",
              "      <td>0.038462</td>\n",
              "      <td>1.0</td>\n",
              "    </tr>\n",
              "  </tbody>\n",
              "</table>\n",
              "<p>306 rows × 3 columns</p>\n",
              "</div>"
            ],
            "text/plain": [
              "     age_at_operation  no_of_pos_aux_nodes  survival_status\n",
              "0            0.000000             0.019231              0.0\n",
              "1            0.000000             0.057692              0.0\n",
              "2            0.000000             0.000000              0.0\n",
              "3            0.018868             0.038462              0.0\n",
              "4            0.018868             0.076923              0.0\n",
              "..                ...                  ...              ...\n",
              "301          0.849057             0.019231              0.0\n",
              "302          0.867925             0.000000              0.0\n",
              "303          0.886792             0.057692              0.0\n",
              "304          0.905660             0.019231              1.0\n",
              "305          1.000000             0.038462              1.0\n",
              "\n",
              "[306 rows x 3 columns]"
            ]
          },
          "execution_count": 4,
          "metadata": {},
          "output_type": "execute_result"
        }
      ],
      "source": [
        "#The min-max scaling method scales the data in each column to a range of 0 to 1. This is done by subtracting the minimum value in the column from each value in the column, then dividing by the range of the column (which is the difference between the maximum and minimum values).\n",
        "def min_max_scaler(df: pd.DataFrame):\n",
        "    for col, min, max in zip(df.columns, df.min(), df.max()):\n",
        "        df[col] = df[col].map(lambda x: (x - min)/(max - min))\n",
        "    return df\n",
        "# now we have passed our data frame in the mnin_max_scaler function in order to get the normalized or scaled data\n",
        "scaled_df = min_max_scaler(df)\n",
        "scaled_df"
      ]
    },
    {
      "attachments": {},
      "cell_type": "markdown",
      "metadata": {
        "id": "JykVdTVB2-Uj"
      },
      "source": [
        "#### a.1 Implementation of KNN using euclidean"
      ]
    },
    {
      "cell_type": "code",
      "execution_count": 5,
      "metadata": {
        "id": "poFLy7413OBD"
      },
      "outputs": [],
      "source": [
        "from scipy.spatial.distance import euclidean\n",
        "import random\n",
        "\n",
        "# here is the implementation of the KNN function which takes dataframe , K value and the new sample / datapoint for which you want to predict \n",
        "def KNN(dataframe: pd.DataFrame, K: int, new_datapoint: pd.Series) -> float:\n",
        "    # here is the calculation for the K nearest data points of the given new sample then we have stored the data points in KNN_indices for further calculation\n",
        "    # this function is taking K nearest points after sorting the data points by euclidean distance \n",
        "    KNN_indices = dataframe.reset_index(drop=True).drop(\"survival_status\", axis=1).apply(lambda row: euclidean(row, new_datapoint), axis=1).sort_values()[:K].index\n",
        "    \n",
        "    # this freq is to store the frequency of 0 and 1 for the K points which are nearest to the new data point by \"survival status\" coloumn if the kth data point belongs to class 0 so we will increment freq[0]  otherwise we will increment   freq[1]\n",
        "    freq = [0, 0]\n",
        "    for i in KNN_indices:\n",
        "        if dataframe.iloc[i][\"survival_status\"] == 0.0:\n",
        "            freq[0] += 1\n",
        "        else:\n",
        "            freq[1] += 1\n",
        "\n",
        "    # now if the freq[0]  is same as freq[1] for all KNN_indices i.e. the new data point can belong to class 0 or to class 1 so we will allot its class randomly\n",
        "    if freq[0] == freq[1]:\n",
        "        return random.choice(0.0, 1.0)\n",
        "    #if freq[0] > freq[1] then we will assign 0 otherwise we will return 1\n",
        "    if freq[0] > freq[1]:\n",
        "        return 0.0\n",
        "    else:\n",
        "        return 1.0"
      ]
    },
    {
      "attachments": {},
      "cell_type": "markdown",
      "metadata": {
        "id": "xwFSQ0pA5Hy7"
      },
      "source": [
        "#### a.2 Model Selection"
      ]
    },
    {
      "attachments": {},
      "cell_type": "markdown",
      "metadata": {
        "id": "KEoAPzH5EFNm"
      },
      "source": [
        "##### LOO validation"
      ]
    },
    {
      "cell_type": "code",
      "execution_count": 6,
      "metadata": {
        "id": "KmPZiN0943I2"
      },
      "outputs": [],
      "source": [
        "# here is the implementation of Leave-One-Out which will tell us error rates for each and every K in b/w 1 to 99 with a diff of 2 i.e. we will take k as 1,3,5,7.....99\n",
        "def LOO(dataframe):\n",
        "    # here we had took unlabelled dataframe after dropping the class/label we will use it for prediction\n",
        "    unlabelled_df = dataframe.drop(\"survival_status\", axis=1)\n",
        "    # this error[] is to append error for each and every K\n",
        "    error = []\n",
        "\n",
        "    # This outer look if to iterate for K values in range 1,3,5,7....99\n",
        "    for K in range(1, min(100, dataframe.shape[0]), 2):\n",
        "        # as we have took unlabelled dataframe so to take care of actual values we have stored the label of each row into actual_values and we also made a predicted_values list to store the predicted values \n",
        "        actual_values = [i for i in dataframe[\"survival_status\"]]\n",
        "        predicted_values = [None for _ in actual_values]\n",
        "        # this inner look is to iterate over each and every row for each K value i.e. suppose K is 5 so for K = 5 it will iterate over all 300 rows  in order to find the predicted values \n",
        "        for i in range(dataframe.shape[0]):\n",
        "            # here we are implementing the main conceps of LOO we are dropping the ith row and considering all other rows\n",
        "            local_df = dataframe.drop(i, axis=0)\n",
        "            # here we are predicting the label for the ith row  that we have dropped by considering all other rows as our training data \n",
        "            predicted_values[i] = KNN(local_df, K, unlabelled_df.iloc[i])\n",
        "        \n",
        "        # then we are calculating the mean square error or we can say error for our predeicted values by considering the actual values we are calculation this error for each and every K value so corresponding to each and every K there we are having a error and we are appending the K value with its MSE to the error[]\n",
        "        MSE = sum([abs(a - p) for a, p in zip(actual_values, predicted_values)])/local_df.shape[0]\n",
        "        error.append([K, MSE])\n",
        "\n",
        "    # then we have returned the error list by converting it to a pandas dataframe \n",
        "    return pd.DataFrame(error, columns=[\"K\", \"error\"])\n",
        "\n",
        "# then we have performed above LOO process on our scaled dataframe and we got dataframe with K value and its corresponding error    \n",
        "cross_val_err = LOO(scaled_df)"
      ]
    },
    {
      "cell_type": "code",
      "execution_count": 7,
      "metadata": {
        "colab": {
          "base_uri": "https://localhost:8080/",
          "height": 282
        },
        "id": "r0x39T8vjEKb",
        "outputId": "45af4147-506e-459e-af19-7f60988eca05"
      },
      "outputs": [
        {
          "data": {
            "text/plain": [
              "[<matplotlib.lines.Line2D at 0x21680c091f0>]"
            ]
          },
          "execution_count": 7,
          "metadata": {},
          "output_type": "execute_result"
        },
        {
          "data": {
            "image/png": "[encoded data removed]",
            "text/plain": [
              "<Figure size 500x400 with 1 Axes>"
            ]
          },
          "metadata": {},
          "output_type": "display_data"
        }
      ],
      "source": [
        "# here we are plotting the errors corresponding to the K values which we stored in cross_val_error data frame\n",
        "import matplotlib.pyplot as plt\n",
        "plt.figure(figsize = (5,4))\n",
        "plt.xticks(list(range(1, 100, 10)))\n",
        "# plt.bar(cross_val_err[\"K\"], cross_val_err[\"error\"])\n",
        "plt.plot(cross_val_err[\"K\"], cross_val_err[\"error\"])\n"
      ]
    },
    {
      "attachments": {},
      "cell_type": "markdown",
      "metadata": {
        "id": "0Mu8-u5T-f-H"
      },
      "source": [
        "##### Now we will find the optimal K value i.e. the K value for which the error is minimum"
      ]
    },
    {
      "cell_type": "code",
      "execution_count": 8,
      "metadata": {
        "colab": {
          "base_uri": "https://localhost:8080/"
        },
        "id": "FlOkGdzz-fdM",
        "outputId": "4fa0746f-d02b-42fa-9ce9-7b919aebbe7f"
      },
      "outputs": [
        {
          "name": "stdout",
          "output_type": "stream",
          "text": [
            "Optimal value of K is : 47\n",
            "Error corresponding to the optimal K value is : 0.2262295081967213\n"
          ]
        }
      ],
      "source": [
        "# so here in first line of code we found the row in cross_val_error df having the minimum error using idxmin() bcoz in each row there is K and its corresponding error so if we fount the index of the row with minimum error so we can also find the K value for that by accessing coloumn \"K\" \n",
        "optimal_K_row = cross_val_err.iloc[cross_val_err[\"error\"].idxmin()]\n",
        "optimal_K = int(optimal_K_row[\"K\"])\n",
        "optimal_err = optimal_K_row[\"error\"]\n",
        "# Now lets print out the optimal k value and the minimum error corresponding to that\n",
        "print(\"Optimal value of K is :\", optimal_K)\n",
        "print(\"Error corresponding to the optimal K value is :\", optimal_err)\n"
      ]
    },
    {
      "attachments": {},
      "cell_type": "markdown",
      "metadata": {
        "id": "alNxuyPX4-E7"
      },
      "source": [
        "#### Plotting Decision Boundary \n",
        "-> For that we are scattered the points all over the 2D grid  to visualize the decision boundary"
      ]
    },
    {
      "cell_type": "code",
      "execution_count": 9,
      "metadata": {
        "colab": {
          "base_uri": "https://localhost:8080/",
          "height": 499
        },
        "id": "eyNGbl0Bg7EG",
        "outputId": "6116e34c-163c-4df5-a12f-31f4f0f2ff05"
      },
      "outputs": [
        {
          "data": {
            "image/png": "[encoded data removed]",
            "text/plain": [
              "<Figure size 800x800 with 1 Axes>"
            ]
          },
          "metadata": {},
          "output_type": "display_data"
        }
      ],
      "source": [
        "# here we are setting the dimension of the \n",
        "points = []\n",
        "dim = 50\n",
        "# here we are iterating over the dimension of the grid in order to apped the coordinated of the data points to the points list with their corresponding predicted label using KNN and optimal K\n",
        "for i in range(dim+1):\n",
        "    for j in range(dim+1):\n",
        "        points.append([i/dim, j/dim, KNN(scaled_df, optimal_K, [i/30, j/30])])\n",
        "# here we are converting the list of points to the pandas dataframe with their feature or attribute names \n",
        "points = pd.DataFrame(points, columns=['x', 'y', 'class'])\n",
        "# now we are grouping the data points according to their predicted labels the groups with class i.e. we have created two groups correspondint to label 0 and label 1\n",
        "grouped_points = [i for _, i in points.groupby(\"class\", sort=False)]\n",
        "\n",
        "# NOw we have plotted the grouped points with green color as class 0 and red as class 1\n",
        "plt.rcParams[\"figure.figsize\"] = (8, 8)\n",
        "for pts, color in zip([i for i in grouped_points], [\"#2AA71D\", \"#C32744\"]):\n",
        "    # getting the class of each datapoint & then plotting it on the grid \n",
        "    cls = pts.iloc[0][\"class\"]\n",
        "    plt.scatter(pts[\"x\"], pts[\"y\"], c=color, s=12.0, label=cls)\n",
        "plt.title(\"Decision Boundary\")\n",
        "plt.legend(loc='upper right')\n",
        "plt.show()\n"
      ]
    },
    {
      "attachments": {},
      "cell_type": "markdown",
      "metadata": {
        "id": "VfuUHdrr5X4J"
      },
      "source": [
        "#### a.3 Predicting accuracy of learning method using 5 fold cross validation"
      ]
    },
    {
      "cell_type": "code",
      "execution_count": 10,
      "metadata": {
        "id": "Dz6bBX-f5elo"
      },
      "outputs": [
        {
          "data": {
            "text/plain": [
              "[    age_at_operation  no_of_pos_aux_nodes  survival_status\n",
              " 0           0.000000             0.019231              0.0\n",
              " 1           0.056604             0.192308              0.0\n",
              " 2           0.075472             0.019231              0.0\n",
              " 3           0.094340             0.000000              0.0\n",
              " 4           0.132075             0.000000              0.0\n",
              " ..               ...                  ...              ...\n",
              " 57          0.754717             0.000000              1.0\n",
              " 58          0.754717             0.153846              0.0\n",
              " 59          0.792453             0.000000              0.0\n",
              " 60          0.830189             0.000000              0.0\n",
              " 61          1.000000             0.038462              1.0\n",
              " \n",
              " [62 rows x 3 columns],\n",
              "     age_at_operation  no_of_pos_aux_nodes  survival_status\n",
              " 0           0.000000             0.057692              0.0\n",
              " 1           0.056604             0.000000              0.0\n",
              " 2           0.075472             0.192308              0.0\n",
              " 3           0.113208             0.000000              0.0\n",
              " 4           0.132075             0.115385              0.0\n",
              " ..               ...                  ...              ...\n",
              " 56          0.735849             0.000000              0.0\n",
              " 57          0.754717             0.076923              1.0\n",
              " 58          0.754717             0.000000              0.0\n",
              " 59          0.792453             0.000000              1.0\n",
              " 60          0.849057             0.019231              0.0\n",
              " \n",
              " [61 rows x 3 columns],\n",
              "     age_at_operation  no_of_pos_aux_nodes  survival_status\n",
              " 0           0.000000             0.000000              0.0\n",
              " 1           0.075472             0.000000              1.0\n",
              " 2           0.075472             0.134615              0.0\n",
              " 3           0.113208             0.019231              0.0\n",
              " 4           0.132075             0.288462              0.0\n",
              " ..               ...                  ...              ...\n",
              " 56          0.735849             0.000000              0.0\n",
              " 57          0.754717             0.269231              0.0\n",
              " 58          0.773585             0.038462              0.0\n",
              " 59          0.811321             0.000000              0.0\n",
              " 60          0.867925             0.000000              0.0\n",
              " \n",
              " [61 rows x 3 columns],\n",
              "     age_at_operation  no_of_pos_aux_nodes  survival_status\n",
              " 0           0.018868             0.038462              0.0\n",
              " 1           0.075472             0.173077              1.0\n",
              " 2           0.075472             0.000000              0.0\n",
              " 3           0.132075             0.000000              0.0\n",
              " 4           0.132075             0.000000              0.0\n",
              " ..               ...                  ...              ...\n",
              " 56          0.735849             0.153846              1.0\n",
              " 57          0.754717             0.000000              0.0\n",
              " 58          0.792453             0.057692              0.0\n",
              " 59          0.811321             0.000000              0.0\n",
              " 60          0.886792             0.057692              0.0\n",
              " \n",
              " [61 rows x 3 columns],\n",
              "     age_at_operation  no_of_pos_aux_nodes  survival_status\n",
              " 0           0.018868             0.076923              0.0\n",
              " 1           0.075472             0.576923              0.0\n",
              " 2           0.094340             0.250000              0.0\n",
              " 3           0.132075             0.000000              0.0\n",
              " 4           0.150943             0.000000              0.0\n",
              " ..               ...                  ...              ...\n",
              " 56          0.735849             0.000000              0.0\n",
              " 57          0.754717             0.000000              0.0\n",
              " 58          0.792453             0.000000              0.0\n",
              " 59          0.830189             0.057692              1.0\n",
              " 60          0.905660             0.019231              1.0\n",
              " \n",
              " [61 rows x 3 columns]]"
            ]
          },
          "execution_count": 10,
          "metadata": {},
          "output_type": "execute_result"
        }
      ],
      "source": [
        "# here we are creating 5 folds or we breaked data into 5 parts having around equal no of rows or samples \n",
        "sorted_df = scaled_df.sort_values(\"age_at_operation\")\n",
        "folds = [pd.DataFrame(sorted_df.iloc[i::5]).reset_index(drop=True) for i in range(5)]\n",
        "folds"
      ]
    },
    {
      "attachments": {},
      "cell_type": "markdown",
      "metadata": {
        "id": "lRzEkNbT_H4G"
      },
      "source": [
        "##### Here we are finding the optimal k for each fold using LOO Validation"
      ]
    },
    {
      "cell_type": "code",
      "execution_count": 11,
      "metadata": {
        "id": "8YBvHluvuwEp"
      },
      "outputs": [
        {
          "name": "stdout",
          "output_type": "stream",
          "text": [
            "[     K     error\n",
            "0    1  0.327869\n",
            "1    3  0.327869\n",
            "2    5  0.295082\n",
            "3    7  0.295082\n",
            "4    9  0.262295\n",
            "5   11  0.245902\n",
            "6   13  0.278689\n",
            "7   15  0.278689\n",
            "8   17  0.311475\n",
            "9   19  0.295082\n",
            "10  21  0.295082\n",
            "11  23  0.295082\n",
            "12  25  0.278689\n",
            "13  27  0.278689\n",
            "14  29  0.278689\n",
            "15  31  0.278689\n",
            "16  33  0.278689\n",
            "17  35  0.278689\n",
            "18  37  0.278689\n",
            "19  39  0.278689\n",
            "20  41  0.278689\n",
            "21  43  0.278689\n",
            "22  45  0.278689\n",
            "23  47  0.278689\n",
            "24  49  0.278689\n",
            "25  51  0.278689\n",
            "26  53  0.278689\n",
            "27  55  0.278689\n",
            "28  57  0.278689\n",
            "29  59  0.278689\n",
            "30  61  0.278689,      K     error\n",
            "0    1  0.400000\n",
            "1    3  0.383333\n",
            "2    5  0.416667\n",
            "3    7  0.416667\n",
            "4    9  0.333333\n",
            "5   11  0.300000\n",
            "6   13  0.350000\n",
            "7   15  0.316667\n",
            "8   17  0.316667\n",
            "9   19  0.333333\n",
            "10  21  0.350000\n",
            "11  23  0.350000\n",
            "12  25  0.333333\n",
            "13  27  0.333333\n",
            "14  29  0.333333\n",
            "15  31  0.333333\n",
            "16  33  0.333333\n",
            "17  35  0.333333\n",
            "18  37  0.333333\n",
            "19  39  0.333333\n",
            "20  41  0.333333\n",
            "21  43  0.333333\n",
            "22  45  0.333333\n",
            "23  47  0.333333\n",
            "24  49  0.333333\n",
            "25  51  0.333333\n",
            "26  53  0.333333\n",
            "27  55  0.333333\n",
            "28  57  0.333333\n",
            "29  59  0.333333,      K     error\n",
            "0    1  0.200000\n",
            "1    3  0.166667\n",
            "2    5  0.150000\n",
            "3    7  0.150000\n",
            "4    9  0.150000\n",
            "5   11  0.150000\n",
            "6   13  0.183333\n",
            "7   15  0.216667\n",
            "8   17  0.200000\n",
            "9   19  0.200000\n",
            "10  21  0.200000\n",
            "11  23  0.200000\n",
            "12  25  0.200000\n",
            "13  27  0.200000\n",
            "14  29  0.200000\n",
            "15  31  0.200000\n",
            "16  33  0.200000\n",
            "17  35  0.200000\n",
            "18  37  0.200000\n",
            "19  39  0.200000\n",
            "20  41  0.200000\n",
            "21  43  0.200000\n",
            "22  45  0.200000\n",
            "23  47  0.200000\n",
            "24  49  0.200000\n",
            "25  51  0.200000\n",
            "26  53  0.200000\n",
            "27  55  0.200000\n",
            "28  57  0.200000\n",
            "29  59  0.200000,      K     error\n",
            "0    1  0.283333\n",
            "1    3  0.283333\n",
            "2    5  0.300000\n",
            "3    7  0.300000\n",
            "4    9  0.316667\n",
            "5   11  0.300000\n",
            "6   13  0.316667\n",
            "7   15  0.300000\n",
            "8   17  0.300000\n",
            "9   19  0.300000\n",
            "10  21  0.283333\n",
            "11  23  0.283333\n",
            "12  25  0.300000\n",
            "13  27  0.300000\n",
            "14  29  0.300000\n",
            "15  31  0.300000\n",
            "16  33  0.300000\n",
            "17  35  0.300000\n",
            "18  37  0.300000\n",
            "19  39  0.300000\n",
            "20  41  0.300000\n",
            "21  43  0.300000\n",
            "22  45  0.300000\n",
            "23  47  0.300000\n",
            "24  49  0.300000\n",
            "25  51  0.300000\n",
            "26  53  0.300000\n",
            "27  55  0.300000\n",
            "28  57  0.300000\n",
            "29  59  0.300000,      K     error\n",
            "0    1  0.350000\n",
            "1    3  0.333333\n",
            "2    5  0.283333\n",
            "3    7  0.250000\n",
            "4    9  0.233333\n",
            "5   11  0.233333\n",
            "6   13  0.233333\n",
            "7   15  0.233333\n",
            "8   17  0.233333\n",
            "9   19  0.233333\n",
            "10  21  0.233333\n",
            "11  23  0.233333\n",
            "12  25  0.233333\n",
            "13  27  0.233333\n",
            "14  29  0.233333\n",
            "15  31  0.233333\n",
            "16  33  0.233333\n",
            "17  35  0.233333\n",
            "18  37  0.233333\n",
            "19  39  0.233333\n",
            "20  41  0.233333\n",
            "21  43  0.233333\n",
            "22  45  0.233333\n",
            "23  47  0.233333\n",
            "24  49  0.233333\n",
            "25  51  0.233333\n",
            "26  53  0.233333\n",
            "27  55  0.233333\n",
            "28  57  0.233333\n",
            "29  59  0.233333]\n"
          ]
        }
      ],
      "source": [
        "# here we have found the error list for each fold using the LOO()\n",
        "cross_val_errs = [LOO(i) for i in folds]\n",
        "print(cross_val_errs)\n",
        "# now we will find the the rows in each fold with least error in order to find the optimal k for each fold\n",
        "optimal_K_rows = [i.iloc[i[\"error\"].idxmin()] for i in cross_val_errs]\n",
        "# using optimal_K_rows here we are finding the optimal K values corresponding to each fold\n",
        "optimal_Ks = [int(i[\"K\"]) for i in optimal_K_rows]\n",
        "# here we are taking the minimum errors corresponding to the optimal K's for each fold\n",
        "loo_val_errs = [i[\"error\"] for i in optimal_K_rows]\n"
      ]
    },
    {
      "attachments": {},
      "cell_type": "markdown",
      "metadata": {
        "id": "Ih0OfZtK_Z-u"
      },
      "source": [
        "Calculating test error"
      ]
    },
    {
      "cell_type": "code",
      "execution_count": 12,
      "metadata": {
        "id": "8lGQqRNrldz-"
      },
      "outputs": [
        {
          "name": "stdout",
          "output_type": "stream",
          "text": [
            "[0.2459016393442623, 0.23673469387755103, 0.2612244897959184, 0.32653061224489793, 0.27346938775510204]\n"
          ]
        }
      ],
      "source": [
        "# Here we will find the errors corresponding to the test sets\n",
        "def test(train: pd.DataFrame, test: list, K: int):\n",
        "    # here we are concatinating all the folds except the ith fold so the test set comprises of 4 folds\n",
        "    test = pd.concat(test, ignore_index=True)\n",
        "    # In order to find the predicted values of the test set we dropped the label\n",
        "    test_df = test.drop(\"survival_status\", axis=1)\n",
        "    # here we are taking the ith fold as training set  which we are not considering in test set \n",
        "    train_df = train\n",
        "    # keeping track of actual values in order to find error in prediction\n",
        "    actual_values = [i for i in test[\"survival_status\"]]\n",
        "    # created a list of predicted values for the test set using KNN algorithm\n",
        "    predicted_values = [KNN(train_df, K, i) for _, i in test_df.iterrows()]\n",
        "    # caluated the MSE corresponding to actual and predicted values\n",
        "    MSE = sum([abs(a - p) for a, p in zip(actual_values, predicted_values)])/test_df.shape[0]\n",
        "    return MSE\n",
        "\n",
        "# here we have stored estimated errors  for each fold using its corresponding optimal K value\n",
        "est_test_errs = [test(folds[i], [folds[j] for j in range(5) if j != i], optimal_Ks[i]) for i in range(5)]\n",
        "\n",
        "print(est_test_errs)\n"
      ]
    },
    {
      "cell_type": "code",
      "execution_count": 13,
      "metadata": {
        "colab": {
          "base_uri": "https://localhost:8080/",
          "height": 206
        },
        "id": "T2BtORf2mjLO",
        "outputId": "830a0750-2bd6-4c66-8049-5ef8c8fb7133"
      },
      "outputs": [
        {
          "data": {
            "text/html": [
              "<div>\n",
              "<style scoped>\n",
              "    .dataframe tbody tr th:only-of-type {\n",
              "        vertical-align: middle;\n",
              "    }\n",
              "\n",
              "    .dataframe tbody tr th {\n",
              "        vertical-align: top;\n",
              "    }\n",
              "\n",
              "    .dataframe thead th {\n",
              "        text-align: right;\n",
              "    }\n",
              "</style>\n",
              "<table border=\"1\" class=\"dataframe\">\n",
              "  <thead>\n",
              "    <tr style=\"text-align: right;\">\n",
              "      <th></th>\n",
              "      <th>fold_no</th>\n",
              "      <th>optimal k value for the fold</th>\n",
              "      <th>loo validation error for the fold</th>\n",
              "      <th>estimated test error for the fold</th>\n",
              "    </tr>\n",
              "  </thead>\n",
              "  <tbody>\n",
              "    <tr>\n",
              "      <th>0</th>\n",
              "      <td>1</td>\n",
              "      <td>11</td>\n",
              "      <td>0.245902</td>\n",
              "      <td>0.245902</td>\n",
              "    </tr>\n",
              "    <tr>\n",
              "      <th>1</th>\n",
              "      <td>2</td>\n",
              "      <td>11</td>\n",
              "      <td>0.300000</td>\n",
              "      <td>0.236735</td>\n",
              "    </tr>\n",
              "    <tr>\n",
              "      <th>2</th>\n",
              "      <td>3</td>\n",
              "      <td>5</td>\n",
              "      <td>0.150000</td>\n",
              "      <td>0.261224</td>\n",
              "    </tr>\n",
              "    <tr>\n",
              "      <th>3</th>\n",
              "      <td>4</td>\n",
              "      <td>1</td>\n",
              "      <td>0.283333</td>\n",
              "      <td>0.326531</td>\n",
              "    </tr>\n",
              "    <tr>\n",
              "      <th>4</th>\n",
              "      <td>5</td>\n",
              "      <td>9</td>\n",
              "      <td>0.233333</td>\n",
              "      <td>0.273469</td>\n",
              "    </tr>\n",
              "  </tbody>\n",
              "</table>\n",
              "</div>"
            ],
            "text/plain": [
              "   fold_no  optimal k value for the fold  loo validation error for the fold  \\\n",
              "0        1                            11                           0.245902   \n",
              "1        2                            11                           0.300000   \n",
              "2        3                             5                           0.150000   \n",
              "3        4                             1                           0.283333   \n",
              "4        5                             9                           0.233333   \n",
              "\n",
              "   estimated test error for the fold  \n",
              "0                           0.245902  \n",
              "1                           0.236735  \n",
              "2                           0.261224  \n",
              "3                           0.326531  \n",
              "4                           0.273469  "
            ]
          },
          "execution_count": 13,
          "metadata": {},
          "output_type": "execute_result"
        }
      ],
      "source": [
        "# here we are printing the ith fold with its optimal k value and Loo validation error and with estimated test error\n",
        "pd.DataFrame({\n",
        "    \"fold_no\": [1, 2, 3, 4, 5],\n",
        "    \"optimal k value for the fold\": optimal_Ks,\n",
        "    \"loo validation error for the fold\": loo_val_errs,\n",
        "    \"estimated test error for the fold\": est_test_errs\n",
        "})"
      ]
    },
    {
      "cell_type": "code",
      "execution_count": 14,
      "metadata": {
        "colab": {
          "base_uri": "https://localhost:8080/"
        },
        "id": "yWF6X2LH1WJ_",
        "outputId": "400b9feb-952a-4e6a-dec2-138ff2b9c2b2"
      },
      "outputs": [
        {
          "name": "stdout",
          "output_type": "stream",
          "text": [
            "Average LOO Validation: 0.2425136612021858\n",
            "Average test error: 0.2687721646035463\n",
            "Optimal K  error: 0.2262295081967213\n"
          ]
        }
      ],
      "source": [
        "avg_test_err = sum(est_test_errs)/5\n",
        "avg_loo_val_err = sum(loo_val_errs)/5\n",
        "print(\"Average LOO Validation:\", avg_loo_val_err)\n",
        "print(\"Average test error:\", avg_test_err)\n",
        "print(\"Optimal K  error:\", optimal_err)"
      ]
    },
    {
      "attachments": {},
      "cell_type": "markdown",
      "metadata": {},
      "source": [
        "<br>\n",
        "End of Topic-A"
      ]
    }
  ],
  "metadata": {
    "colab": {
      "provenance": []
    },
    "kernelspec": {
      "display_name": "Python 3",
      "language": "python",
      "name": "python3"
    },
    "language_info": {
      "codemirror_mode": {
        "name": "ipython",
        "version": 3
      },
      "file_extension": ".py",
      "mimetype": "text/x-python",
      "name": "python",
      "nbconvert_exporter": "python",
      "pygments_lexer": "ipython3",
      "version": "3.9.7"
    },
    "vscode": {
      "interpreter": {
        "hash": "81794d4967e6c3204c66dcd87b604927b115b27c00565d3d43f05ba2f3a2cb0d"
      }
    }
  },
  "nbformat": 4,
  "nbformat_minor": 0
}
